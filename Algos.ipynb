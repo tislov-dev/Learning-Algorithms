{
 "cells": [
  {
   "cell_type": "markdown",
   "metadata": {},
   "source": [
    "## The Big O\n",
    "\n",
    "### Time Complexity:\n",
    "- The numbers of operations it takes to complete something.\n",
    "### Space Complexity:\n",
    "- How much memory is required to run something.\n",
    "\n",
    "When dealing with time/space complexity there are 3 most common greek letters used.\n",
    "1. $\\Omega$ - Best case\n",
    "2. $\\Theta$ - Average Case\n",
    "3. O - Worst Case"
   ]
  },
  {
   "cell_type": "markdown",
   "metadata": {},
   "source": [
    "#### Big O: O(n) | Proportional   \n",
    "The number of times \"n\" we ran an operation \"O\", hence O*n.\n",
    "\n",
    "```\n",
    "def print_items(n):\n",
    "    for i in range(n):\n",
    "        print(i)\n",
    "```"
   ]
  },
  {
   "cell_type": "markdown",
   "metadata": {},
   "source": [
    "#### Big O: Drop Constants    \n",
    "If we have to run the \"n\" operation lets say 2 times, so it becomes O(2n), we can simply drop the constant \"2\" from the expression for simplicity.\n",
    "\n",
    "```\n",
    "def print_items(n):\n",
    "    for i in range(n):\n",
    "        print(i)\n",
    "    for i in range(n):\n",
    "        print(i)\n",
    "```"
   ]
  },
  {
   "cell_type": "markdown",
   "metadata": {},
   "source": [
    "#### Big O: O($n^2$) | Loop within a Loop    \n",
    "When we have a loop inside a loop. Even if have loops within loops to many levels, for simplification, we are still going to denote as $n^2$.\n",
    "\n",
    "```\n",
    "def print_items(n):\n",
    "    for i in range(n):\n",
    "        print(i)\n",
    "        for j in range(n):\n",
    "            print(i,j)\n",
    "```"
   ]
  },
  {
   "cell_type": "markdown",
   "metadata": {},
   "source": [
    "#### Big O: Drop Non-Dominants   \n",
    "When we have a $n^2$ operation and another n operation added to it which becomes O($n^2$ + n). Then $n^2$ component becomes the Dominant Operation and snigle n becomes Non-Dominant Operation. Lets, say we have n=10_000, so the first $n^2$ is signifanct enough to outscale single n operation. Hence we drop the Non-Dominant operation.\n",
    "\n",
    "```\n",
    "def print_items(n):\n",
    "    for i in range(n):\n",
    "        print(i)\n",
    "        for j in range(n):\n",
    "            print(i,j)\n",
    "\n",
    "    for i in range(n):\n",
    "        print(i)\n",
    "```"
   ]
  },
  {
   "cell_type": "markdown",
   "metadata": {},
   "source": [
    "#### Big O: O(1) | Constant   \n",
    "When we have a single operation to perform no matter the n. So the O(1) is also called \"Constant Time\" meaning as the number of n increase the number of operation is going to remain constant.\n",
    "\n",
    "```\n",
    "def add_item(n):\n",
    "    return n + n\n",
    "```\n",
    "Even if we have n + n + n + ..., the number of operations will remain contant as n increases, hence O(1)."
   ]
  },
  {
   "cell_type": "markdown",
   "metadata": {},
   "source": [
    "#### Big O: O(log n) | Divide and Conquer   \n",
    "Lets say we have a list of 8 integers and we want to find out its position, instead of iterating the list we can divide the list into 2 and look if the number is in the first list. If we found the number is in the first list, we further divide it into 2 and keep dividing until we are only left with the number we are looking for.\n",
    "\n",
    "For this basic example, looking at how many times we have to divide the list to get to the acutal number we found that it takes 3 division function to get there.\n",
    "\n",
    "$2^3 = 8$\n",
    "\n",
    "From the above equation, 3 correspondes to n, then we can translate this to logarthmic scale.\n",
    "\n",
    "$log_2 8 = 3$"
   ]
  },
  {
   "cell_type": "markdown",
   "metadata": {},
   "source": [
    "#### Big O: Different Terms for Inputs\n",
    "If you have different paramets for the input you cannot merge them teogether to simplify as like \"Drop Contants\" becuase they are totally different inputs and should be treated differently.\n",
    "\n",
    "```\n",
    "def add_items(a, b):\n",
    "    for i in range(a):\n",
    "        print i\n",
    "\n",
    "    for j in range(b):\n",
    "        print(j)\n",
    "```\n",
    "\n",
    "Or if we had a loop within a loop like:\n",
    "```\n",
    "def add_items(a, b):\n",
    "    for i in range(a):\n",
    "        for j in range(b):\n",
    "            print(i, j)\n",
    "```\n",
    "In both the cases we cannot merge \"a\" and \"b\" and say its O(n + n) = O(2n) and drop 2 from the latter. We cannot do that. Instead we will denote O(a + b)."
   ]
  },
  {
   "cell_type": "markdown",
   "metadata": {},
   "source": [
    "#### Big O: Lists\n",
    "When we are dealing with Lists or Arrays, All the items from start till Last - 1 are O(n), while the last item is considered as O(1). Because, if we want to remove, add, replace any of the item in the list that is not Last - 1, then we have to perform that operation of reomoving, adding or replacing and then re-index to get our index correct. While the item at the last can easily be removed, added or replaced without re-indexing as it will alwyas get +1 index to the last available item."
   ]
  },
  {
   "cell_type": "markdown",
   "metadata": {},
   "source": [
    "[Big O Cheat Sheet](https://www.bigocheatsheet.com/)"
   ]
  },
  {
   "cell_type": "markdown",
   "metadata": {},
   "source": [
    "### Linked Lists"
   ]
  },
  {
   "cell_type": "code",
   "execution_count": null,
   "metadata": {},
   "outputs": [],
   "source": [
    "class Node:\n",
    "    def __init__(self, value):\n",
    "        pass\n",
    "\n",
    "class LinkedList:\n",
    "    def __init__(self, value):\n"
   ]
  }
 ],
 "metadata": {
  "kernelspec": {
   "display_name": "Python 3.10.4 64-bit",
   "language": "python",
   "name": "python3"
  },
  "language_info": {
   "codemirror_mode": {
    "name": "ipython",
    "version": 3
   },
   "file_extension": ".py",
   "mimetype": "text/x-python",
   "name": "python",
   "nbconvert_exporter": "python",
   "pygments_lexer": "ipython3",
   "version": "3.10.4"
  },
  "orig_nbformat": 4,
  "vscode": {
   "interpreter": {
    "hash": "4f946df053fbf2b937619d3c5458e7af74262f9a954d8797ba0b27400bcafe06"
   }
  }
 },
 "nbformat": 4,
 "nbformat_minor": 2
}
